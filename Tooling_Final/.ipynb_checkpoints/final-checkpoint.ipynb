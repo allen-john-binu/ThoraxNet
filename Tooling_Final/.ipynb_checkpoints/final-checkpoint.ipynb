{
 "cells": [
  {
   "cell_type": "code",
   "execution_count": 4,
   "metadata": {},
   "outputs": [
    {
     "name": "stdout",
     "output_type": "stream",
     "text": [
      "Requirement already satisfied: pydicom in /opt/conda/lib/python3.6/site-packages (2.1.2)\n",
      "Collecting rt_utils\n",
      "  Downloading rt_utils-1.1.4-py3-none-any.whl (16 kB)\n",
      "Requirement already satisfied: pydicom==2.1.2 in /opt/conda/lib/python3.6/site-packages (from rt_utils) (2.1.2)\n",
      "Requirement already satisfied: numpy in /opt/conda/lib/python3.6/site-packages (from rt_utils) (1.19.1)\n",
      "Requirement already satisfied: opencv-python in /opt/conda/lib/python3.6/site-packages (from rt_utils) (3.4.1.15)\n",
      "Requirement already satisfied: dataclasses in /opt/conda/lib/python3.6/site-packages (from rt_utils) (0.7)\n",
      "Installing collected packages: rt-utils\n",
      "Successfully installed rt-utils-1.1.4\n"
     ]
    }
   ],
   "source": [
    "!pip install pydicom\n",
    "!pip install rt_utils"
   ]
  },
  {
   "cell_type": "code",
   "execution_count": 8,
   "metadata": {},
   "outputs": [],
   "source": [
    "import os, sys, glob\n",
    "from scipy.ndimage import zoom\n",
    "import numpy as np\n",
    "import pydicom as pd\n",
    "from rt_utils import RTStructBuilder\n",
    "import matplotlib.pyplot as plt\n",
    "%matplotlib inline\n",
    "from skimage.draw import polygon\n",
    "from tqdm import tqdm\n",
    "from cropping import calc_crop\n",
    "import argparse\n",
    "from segmenting import segment\n",
    "names = ['Lung_L','Lung_R','Heart','SpinalCord','Esophagus']"
   ]
  },
  {
   "cell_type": "code",
   "execution_count": 9,
   "metadata": {},
   "outputs": [],
   "source": [
    "\n",
    "class HiddenPrints:\n",
    "    def __enter__(self):\n",
    "        self._original_stdout = sys.stdout\n",
    "        sys.stdout = open(os.devnull, 'w')\n",
    "\n",
    "    def __exit__(self, exc_type, exc_val, exc_tb):\n",
    "        sys.stdout.close()\n",
    "        sys.stdout = self._original_stdout\n",
    "\n",
    "        \n",
    "##Reading Data From Dicom\n",
    "\n",
    "def normalize(im_input):\n",
    "    \n",
    "    minv = im_input.min()\n",
    "    maxv = im_input.max()\n",
    "    im_input = np.float32((im_input - minv)*1.0 / (1.0*(maxv - minv)))\n",
    "    return im_input\n",
    "    \n",
    "    \n",
    "def get_hu_values(image,slices):\n",
    "    image = image.astype(np.int32)\n",
    "    intercept = slices[0].RescaleIntercept\n",
    "    slope = slices[0].RescaleSlope\n",
    "    if slope != 1:\n",
    "        image = slope * image.astype(np.float64)\n",
    "        image = image.astype(np.int16)\n",
    "\n",
    "    image += np.int16(intercept)\n",
    "    image = np.array(image, dtype=np.int32)\n",
    "    image[image < -1024] = -1024\n",
    "    image[image>2000] = 2000\n",
    "    image = normalize(image)\n",
    "    return image\n",
    "    \n",
    "    \n",
    "def downsample_img(image):\n",
    "\tdownsampled = zoom(image, (0.25, 0.25, 0.25))\n",
    "\tdownsampled = downsampled.transpose(2,0,1)\n",
    "\treturn downsampled\n",
    "    \n",
    "\n",
    "def read_images_masks(patient):\n",
    "    for subdir, dirs, files in os.walk(patient):\n",
    "        dcms = glob.glob(os.path.join(subdir, \"*.dcm\"))\n",
    "        if len(dcms) < 1:\n",
    "            sys.exit(\"Expected multiple DICOM slices in source\")\n",
    "        elif len(dcms) >1:\n",
    "            slices = [pd.read_file(dcm) for dcm in dcms]\n",
    "            slices.sort(key = lambda x: float(x.ImagePositionPatient[2]))\n",
    "            image = np.stack([s.pixel_array for s in slices], axis=-1)\n",
    "    image = get_hu_values(image,slices)\n",
    "    \n",
    "    return image\n",
    "    \n"
   ]
  },
  {
   "cell_type": "code",
   "execution_count": 10,
   "metadata": {},
   "outputs": [],
   "source": [
    "def full_process():\n",
    "    SRC_DATA = opt.source\n",
    "    print('Preprocessing starts........ ', end=\"\")\n",
    "    patients = [os.path.join(SRC_DATA,name) for name in os.listdir(SRC_DATA) if os.path.isdir(os.path.join(SRC_DATA, name))]\n",
    "    patient = patients[1]                      ##check\n",
    "    name_idx = len(SRC_DATA)\n",
    "    image = read_images_masks(patient)\n",
    "    crop_input = downsample_img(image)\n",
    "    image = image.transpose(2,0,1)\n",
    "    #Predicting and cutting bounding box\n",
    "    crop_values = calc_crop(crop_input)\n",
    "\n",
    "    #Saving npy\n",
    "    print('Preprocessing Finished')\n",
    "\n",
    "    #Prediction\n",
    "    print('Prediction starts........ ', end=\"\")\n",
    "    final_mask = segment(crop_values)\n",
    "    print('Prediction Finished')\n",
    "\n",
    "    #Saving results\n",
    "    print('Saving results starts........ ', end=\"\")\n",
    "    rtstruct = RTStructBuilder.create_new(dicom_series_path=opt.source)\n",
    "    names = ['Lung_L','Lung_R','Heart','SpinalCord','Esophagus']\n",
    "    colour = [[197,165,145],[197,165,145],[127,150,88],[253,135,192],[85,188,255]]\n",
    "    with HiddenPrints():\n",
    "        for organ,clr in zip(names,colour):\n",
    "            result = final_mask[names.index(organ)]\n",
    "            result = result > 0\n",
    "            result = result.transpose(1,2,0)\n",
    "            #if(arr.count(organ[0].lower())>0):\n",
    "            rtstruct.add_roi(\n",
    "              mask = result, \n",
    "              color = clr, \n",
    "              name = organ\n",
    "            )\n",
    "    print('Saving results Finished')\n",
    "    rtstruct.save(opt.dest+'final')\n",
    "    #removing all unwanted files\n",
    "    stream1 = os.popen('rm -r /home/seenia/allen/Final/processing/sampleP/*.jpg')\n",
    "    stream2 = os.popen('rm -r /home/seenia/allen/Final/processing/dataProcessed/*.npy')\n",
    "    stream3 = os.popen('rm -r /home/seenia/allen/Final/processing/resultsP/*.npy')\n"
   ]
  },
  {
   "cell_type": "code",
   "execution_count": 11,
   "metadata": {},
   "outputs": [
    {
     "name": "stderr",
     "output_type": "stream",
     "text": [
      "usage: ipykernel_launcher.py [-h] [--source SOURCE] [--dest DEST]\n",
      "                             [--organs ORGANS]\n",
      "ipykernel_launcher.py: error: unrecognized arguments: -f /root/.local/share/jupyter/runtime/kernel-5945b7a8-b0d4-4d24-8169-ff1b3bb531b1.json\n"
     ]
    },
    {
     "ename": "SystemExit",
     "evalue": "2",
     "output_type": "error",
     "traceback": [
      "An exception has occurred, use %tb to see the full traceback.\n",
      "\u001b[0;31mSystemExit\u001b[0m\u001b[0;31m:\u001b[0m 2\n"
     ]
    },
    {
     "name": "stderr",
     "output_type": "stream",
     "text": [
      "/opt/conda/lib/python3.6/site-packages/IPython/core/interactiveshell.py:3351: UserWarning: To exit: use 'exit', 'quit', or Ctrl-D.\n",
      "  warn(\"To exit: use 'exit', 'quit', or Ctrl-D.\", stacklevel=1)\n"
     ]
    }
   ],
   "source": [
    "if __name__ == '__main__':\n",
    "    parser = argparse.ArgumentParser()\n",
    "    parser.add_argument('--source', type=str, default='/workstation/seenia/autocontouring/Thoracic_Autocontouring/manu/LCTSC-Test-S1-201', help='path to dicom series')\n",
    "    parser.add_argument('--dest', type=str, default='/workstation/seenia/autocontouring/Thoracic_Autocontouring/manu/', help='path to destination')\n",
    "    parser.add_argument('--organs', type=str, default='lhse', help='specific organs')\n",
    "    \n",
    "    opt = parser.parse_args()\n",
    "    flag = 0\n",
    "    \n",
    "    if(path.exists(path.exists(opt.source) & path.exists(opt.dest))):\n",
    "        try:\n",
    "            demo = RTStructBuilder.create_new(dicom_series_path=opt.source)\n",
    "            flag = 1\n",
    "        except:\n",
    "            print(\"No DICOM series found in input path\")\n",
    "    else:\n",
    "       print (\"Source File exists:\" + str(path.exists(opt.source)))\n",
    "       print (\"Destination File exists:\" + str(path.exists(opt.dest)))\n",
    "    \n",
    "    if(flag == 1):\n",
    "        full_process()"
   ]
  },
  {
   "cell_type": "code",
   "execution_count": null,
   "metadata": {},
   "outputs": [],
   "source": []
  }
 ],
 "metadata": {
  "kernelspec": {
   "display_name": "Python 3",
   "language": "python",
   "name": "python3"
  },
  "language_info": {
   "codemirror_mode": {
    "name": "ipython",
    "version": 3
   },
   "file_extension": ".py",
   "mimetype": "text/x-python",
   "name": "python",
   "nbconvert_exporter": "python",
   "pygments_lexer": "ipython3",
   "version": "3.6.10"
  }
 },
 "nbformat": 4,
 "nbformat_minor": 4
}
